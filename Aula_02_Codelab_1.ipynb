{
  "nbformat": 4,
  "nbformat_minor": 0,
  "metadata": {
    "colab": {
      "name": "Aula_02_Codelab_1.ipynb",
      "provenance": [],
      "collapsed_sections": [],
      "include_colab_link": true
    },
    "kernelspec": {
      "name": "python3",
      "display_name": "Python 3"
    },
    "language_info": {
      "name": "python"
    }
  },
  "cells": [
    {
      "cell_type": "markdown",
      "metadata": {
        "id": "view-in-github",
        "colab_type": "text"
      },
      "source": [
        "<a href=\"https://colab.research.google.com/github/menezesfelipee/exercicios-python/blob/main/Aula_02_Codelab_1.ipynb\" target=\"_parent\"><img src=\"https://colab.research.google.com/assets/colab-badge.svg\" alt=\"Open In Colab\"/></a>"
      ]
    },
    {
      "cell_type": "markdown",
      "metadata": {
        "id": "n_igYcmdk6U9"
      },
      "source": [
        "# **Exercícios para treinar:**"
      ]
    },
    {
      "cell_type": "markdown",
      "metadata": {
        "id": "rRyZR6ZAlEHU"
      },
      "source": [
        "1. **Frase na tela** - Implemente um programa que escreve na tela a frase \"O primeiro programa a gente nunca esquece!\".\n",
        "\n",
        "2. **Etiqueta** - Elabore um programa que escreve seu nome completo na primeira linha, seu endereço na segunda e o CEP e telefone na terceira.\n",
        "\n",
        "3. **Letra de música** - Faça um programa que mostre na tela uma letra de música que você gosta (proibido letras do Justin Bieber).\n",
        "\n",
        "4. **Tabela de notas** - Você foi contratado ou contratada por uma escola pra fazer o sistema de boletim dos alunos. Como primeiro passo, escreva um programa que produza a seguinte saída:\n",
        "```\n",
        "ALUNO (A)  NOTA\n",
        "=========  ====\n",
        "ALINE      9.0\n",
        "MÁRIO      DEZ\n",
        "SÉRGIO     4.5\n",
        "SHIRLEY    7.0\n",
        "```\n",
        "\n",
        "5. **Menu** - Elabore um programa que mostre o seguinte menu na tela:\n",
        "```\n",
        "Cadastro de Clientes\n",
        "0 - Fim\n",
        "1 - Inclui\n",
        "2 - Altera\n",
        "3 - Exclui\n",
        "4 - Consulta\n",
        "Digite uma opção: \n",
        "```\n",
        "Ao digitar um valor para a opção, o programa exibe qual opção foi escolhida.\n",
        "```\n",
        "Você escolheu a opção '0'.\n",
        "```\n",
        "\n",
        "6. **Calculadora de Dano** - Escreva um programa que receba dois valores digitados pelo usuário:\n",
        "  - Quantidade de vida de um monstro (entre 10 e 50);\n",
        "  - Valor do ataque do jogador por turno (entre 5 e 10);\n",
        "  - Baseado nos valores digitados, exiba a quantidade de turnos que o jogador irá demorar para conseguir derrotar o monstro.\n",
        "  - ```\n",
        "    O jogador irá derrotar o monstro em 8 turnos.\n",
        "    ```"
      ]
    },
    {
      "cell_type": "code",
      "metadata": {
        "colab": {
          "base_uri": "https://localhost:8080/"
        },
        "id": "mpuA_p37eR0x",
        "outputId": "e6226194-15f3-4ab5-c105-4239435481ad"
      },
      "source": [
        "#Treino 1\n",
        "texto = \"O primeiro programa a gente nunca esquece!\"\n",
        "print(texto)"
      ],
      "execution_count": null,
      "outputs": [
        {
          "output_type": "stream",
          "text": [
            "O primeiro programa a gente nunca esquece!\n"
          ],
          "name": "stdout"
        }
      ]
    },
    {
      "cell_type": "code",
      "metadata": {
        "colab": {
          "base_uri": "https://localhost:8080/"
        },
        "id": "UM3b2BDLeXQK",
        "outputId": "7b318a82-0ec3-405b-c5d5-986e4f6208a8"
      },
      "source": [
        "#Treino 2\n",
        "nome = input(\"Digite seu nome: \")\n",
        "endereco = input(\"Digite seu endereço: \")\n",
        "cep = input(\"Digite seu CEP: \")\n",
        "telefone = input(\"Digite seu telefone: \")\n",
        "\n",
        "print(f'\\nMeu nome é {nome}\\nMoro na {endereco}\\nMeu CEP é {cep} e meu telefone é {telefone}')"
      ],
      "execution_count": null,
      "outputs": [
        {
          "output_type": "stream",
          "text": [
            "Digite seu nome: Felipe Menezes Silva Sá\n",
            "Digite seu endereço: Rua Taufik Dib, 21C\n",
            "Digite seu CEP: 23076-380\n",
            "Digite seu telefone: (21) 97415-0424\n",
            "\n",
            "Meu nome é Felipe Menezes Silva Sá\n",
            "Moro na Rua Taufik Dib, 21C\n",
            "Meu CEP é 23076-380 e meu telefone é (21) 97415-0424\n"
          ],
          "name": "stdout"
        }
      ]
    },
    {
      "cell_type": "code",
      "metadata": {
        "colab": {
          "base_uri": "https://localhost:8080/"
        },
        "id": "Z1gnw8f1ejqx",
        "outputId": "540ce502-2194-47ca-84b4-765cc574ca37"
      },
      "source": [
        "#Treino 3\n",
        "musica = '''Na bruma leve das paixões que vêm de dentro\n",
        "Tu vens chegando pra brincar no meu quintal\n",
        "No teu cavalo, peito nu, cabelo ao vento\n",
        "E o Sol quarando nossas roupas no varal\n",
        "'''\n",
        "print(musica)"
      ],
      "execution_count": null,
      "outputs": [
        {
          "output_type": "stream",
          "text": [
            "Na bruma leve das paixões que vêm de dentro\n",
            "Tu vens chegando pra brincar no meu quintal\n",
            "No teu cavalo, peito nu, cabelo ao vento\n",
            "E o Sol quarando nossas roupas no varal\n",
            "\n"
          ],
          "name": "stdout"
        }
      ]
    },
    {
      "cell_type": "code",
      "metadata": {
        "colab": {
          "base_uri": "https://localhost:8080/"
        },
        "id": "TJk05p4VesOP",
        "outputId": "723779e3-1494-4e61-fb0c-dfc71c0ee560"
      },
      "source": [
        "#Treino 4\n",
        "nome1, nota1 = \"Aline\", 9.0\n",
        "nome2, nota2 = \"Mário\", 10.0\n",
        "nome3, nota3 = \"Sérgio\", 4.5\n",
        "nome4, nota4 = \"Shirley\", 7.0\n",
        "\n",
        "print(f'''ALUNO(A)   NOTA\n",
        "=========  ====\n",
        "{nome1}      {nota1}\n",
        "{nome2}      {nota2}\n",
        "{nome3}     {nota3}\n",
        "{nome4}    {nota4}\n",
        "''')"
      ],
      "execution_count": null,
      "outputs": [
        {
          "output_type": "stream",
          "text": [
            "ALUNO(A)   NOTA\n",
            "=========  ====\n",
            "Aline      9.0\n",
            "Mário      10.0\n",
            "Sérgio     4.5\n",
            "Shirley    7.0\n",
            "\n"
          ],
          "name": "stdout"
        }
      ]
    },
    {
      "cell_type": "code",
      "metadata": {
        "colab": {
          "base_uri": "https://localhost:8080/"
        },
        "id": "RWCaCjhpezfw",
        "outputId": "f550b6f6-c332-4443-d320-93834e0c835c"
      },
      "source": [
        "#Treino 5\n",
        "print('''Cadastro de Clientes\n",
        "0 - Fim\n",
        "1 - Inclui\n",
        "2 - Altera\n",
        "3 - Exclui\n",
        "4 - Consulta\n",
        "''')\n",
        "opcao = int(input(\"Escolha uma das opções: \"))\n",
        "print(f\"Você escolheu a opção '{opcao}'.\")"
      ],
      "execution_count": null,
      "outputs": [
        {
          "output_type": "stream",
          "text": [
            "Cadastro de Clientes\n",
            "0 - Fim\n",
            "1 - Inclui\n",
            "2 - Altera\n",
            "3 - Exclui\n",
            "4 - Consulta\n",
            "\n",
            "Escolha uma das opções: 0\n",
            "Você escolheu a opção '0'.\n"
          ],
          "name": "stdout"
        }
      ]
    },
    {
      "cell_type": "code",
      "metadata": {
        "colab": {
          "base_uri": "https://localhost:8080/"
        },
        "id": "qWkfzGmue4d5",
        "outputId": "41366e83-35be-43fa-88bb-35b45da8ed60"
      },
      "source": [
        "#Treino 6\n",
        "import math\n",
        "life = int(input(\"Digite a quantidade de vida de um monstro (entre 10 e 50)\"))\n",
        "attack = int(input(\"Digite o valor do ataque do jogador por turno (entre 5 e 10)\"))\n",
        "\n",
        "print(f'O jogador irá derrotar o monstro em {math.ceil(life / attack)} turnos.')"
      ],
      "execution_count": null,
      "outputs": [
        {
          "output_type": "stream",
          "text": [
            "Digite a quantidade de vida de um monstro (entre 10 e 50)50\n",
            "Digite o valor do ataque do jogador por turno (entre 5 e 10)9\n",
            "O jogador irá derrotar o monstro em 6 turnos.\n"
          ],
          "name": "stdout"
        }
      ]
    },
    {
      "cell_type": "markdown",
      "metadata": {
        "id": "HqgnPaCGqMPB"
      },
      "source": [
        "# Exercícios"
      ]
    },
    {
      "cell_type": "markdown",
      "metadata": {
        "id": "U-ltrv0jqPBq"
      },
      "source": [
        "## #01 - E os 10% do garçom?**\n",
        "\n",
        "- Defina uma variável para o valor de uma refeição que custou R$ 42,54;\n",
        "\n",
        "- Defina uma variável para o valor da taxa de serviço que é de 10%;\n",
        "\n",
        "- Defina uma variável que calcula o valor total da conta e exiba-o no console com essa formatação: R$ XXXX.XX."
      ]
    },
    {
      "cell_type": "code",
      "metadata": {
        "id": "jbcSv4NFkB1C",
        "colab": {
          "base_uri": "https://localhost:8080/"
        },
        "outputId": "06a2b11f-f6e1-4062-b652-03c96b060861"
      },
      "source": [
        "#Exercício 1\n",
        "valor = 42.54\n",
        "taxa = 0.1\n",
        "total = valor*(taxa+1)\n",
        "print(f'O valor total é R$ {total:.2f}')"
      ],
      "execution_count": null,
      "outputs": [
        {
          "output_type": "stream",
          "text": [
            "O valor total é R$ 46.79\n"
          ],
          "name": "stdout"
        }
      ]
    },
    {
      "cell_type": "markdown",
      "metadata": {
        "id": "JR3-KgsTqR41"
      },
      "source": [
        "## #02 - Qual o valor do troco?\n",
        "\n",
        "*   Defina uma variável para o valor de uma compra que custou R$100,98;\n",
        "\n",
        "*   Defina uma variável para o valor que o cliente pagou R$150,00;\n",
        "\n",
        "*   Defina uma variável que calcula o valor do troco e exiba-o no console com o valor final arredondado."
      ]
    },
    {
      "cell_type": "code",
      "metadata": {
        "id": "hBf3kE_pksAI",
        "colab": {
          "base_uri": "https://localhost:8080/"
        },
        "outputId": "abcdea58-213f-42c4-cfb7-cf21645a4736"
      },
      "source": [
        "#Exercício 2\n",
        "compra = 100.98\n",
        "dinheiro = 150\n",
        "troco = dinheiro - compra\n",
        "print(f'O troco é de R$ {troco:.0f},00')"
      ],
      "execution_count": null,
      "outputs": [
        {
          "output_type": "stream",
          "text": [
            "O troco é de R$ 49,00\n"
          ],
          "name": "stdout"
        }
      ]
    },
    {
      "cell_type": "markdown",
      "metadata": {
        "id": "2Uu84Uqtkunt"
      },
      "source": [
        "## #03 - Você está na flor da idade?\n",
        "\n",
        "*  Defina uma variável para o valor do ano do nascimento;\n",
        "*  Defina uma variável para o valor do ano atual;\n",
        "*  Defina uma variável que calcula o valor final da idade da pessoa;\n",
        "*  Exiba uma mensagem final dizendo a idade da pessoa e a mensagem \"Você está na flor da idade\"."
      ]
    },
    {
      "cell_type": "code",
      "metadata": {
        "id": "kyXxJV3nk14Z",
        "colab": {
          "base_uri": "https://localhost:8080/"
        },
        "outputId": "0c8037a6-e760-4254-d86c-a3ff8642ed33"
      },
      "source": [
        "#Exercício 3\n",
        "anoNasc = int(input(\"Digite seu ano de nascimento: \"))\n",
        "anoAtual = int(input(\"Digite o ano atual: \"))\n",
        "idade = anoAtual - anoNasc\n",
        "print(f'\\nVocê tem {idade} anos.\\nVocê está na flor da idade!')"
      ],
      "execution_count": null,
      "outputs": [
        {
          "output_type": "stream",
          "text": [
            "Digite seu ano de nascimento: 1998\n",
            "Digite o ano atual: 2021\n",
            "\n",
            "Você tem 23 anos.\n",
            "Você está na flor da idade!\n"
          ],
          "name": "stdout"
        }
      ]
    },
    {
      "cell_type": "markdown",
      "metadata": {
        "id": "w1T7s2q0p-pt"
      },
      "source": [
        "# Mini projetos"
      ]
    },
    {
      "cell_type": "markdown",
      "metadata": {
        "id": "meUw7PTwqC-Y"
      },
      "source": [
        "## #01 - Conversor de moedas\n",
        "\n",
        "Crie um programa que solicite um um valor em real ao usuário e converta esse valor, para:\n",
        "\n",
        "- DOLAR,\n",
        "- EURO,\n",
        "- LIBRA ESTERLINA,\n",
        "- DÓLAR CANADENSE,\n",
        "- PESO ARGENTINO,\n",
        "- PESO CHILENO.\n",
        "\n",
        "Para esse exercício você precisará realizar uma pesquisa para saber a cotação de cada moeda em real. Mostrar o resultado no formato $ XXXX.XX"
      ]
    },
    {
      "cell_type": "code",
      "metadata": {
        "id": "q481snSClrXe",
        "colab": {
          "base_uri": "https://localhost:8080/"
        },
        "outputId": "e06e2d52-75a3-473c-b30d-8453e2eada64"
      },
      "source": [
        "#Mini Projeto 1\n",
        "\n",
        "valor = float(input(\"Digite um valor em Real a ser convertido: \"))\n",
        "dolar = valor / 5.04\n",
        "libra = valor / 7.13\n",
        "cad = valor / 4.16\n",
        "arg = valor / 0.053\n",
        "chi = valor / 0.007\n",
        "\n",
        "print(f'''\n",
        "Esse valor em DOLAR é $ {dolar:.2f}\n",
        "Esse valor em LIBRA ESTERLINA é £ {libra:.2f}\n",
        "Esse valor em DOLAR CANADENSE é C$ {cad:.2f}\n",
        "Esse valor em PESO ARGENTINO é $ {arg:.2f}\n",
        "Esse valor em PESO CHILENO é $ {chi:.2f}\n",
        "''')"
      ],
      "execution_count": null,
      "outputs": [
        {
          "output_type": "stream",
          "text": [
            "Digite um valor em Real a ser convertido: 150\n",
            "\n",
            "Esse valor em DOLAR é $ 29.76\n",
            "Esse valor em LIBRA ESTERLINA é £ 21.04\n",
            "Esse valor em DOLAR CANADENSE é C$ 36.06\n",
            "Esse valor em PESO ARGENTINO é $ 2830.19\n",
            "Esse valor em PESO CHILENO é $ 21428.57\n",
            "\n"
          ],
          "name": "stdout"
        }
      ]
    },
    {
      "cell_type": "markdown",
      "metadata": {
        "id": "KK9PIcJ4qIF9"
      },
      "source": [
        "## #02 - Calculadora de aumento de aluguel\n",
        "\n",
        "Vamos construir um programa que irá calcular o aumento anual do seu aluguel em duas partes:\n",
        "\n",
        "### Parte 1\n",
        "A sua calculadora vai receber o `valor do aluguel` e calcular o aumento baseado no `IGPM de 31%`. A calculadora deve apresentar o aluguel reajustado no formato `R$ XXXX.XX`\n",
        "\n",
        "**Exemplo:**\n",
        "```\n",
        "Valor do aluguel = 1000\n",
        "Valor do aluguel reajustado = R$ 1310,00"
      ]
    },
    {
      "cell_type": "code",
      "metadata": {
        "id": "VdjHa9Csl0Lg",
        "colab": {
          "base_uri": "https://localhost:8080/"
        },
        "outputId": "5e2b1334-3e27-4dfd-a3da-4eb47ee1556d"
      },
      "source": [
        "#Mini Projeto 2 - Parte 1\n",
        "aluguel = float(input(\"Digite o valor atual do seu aluguel: \"))\n",
        "igpm = 0.31\n",
        "aluguelAtualizado = aluguel * (igpm+1)\n",
        "\n",
        "print(f'O valor do aluguel reajustado é R$ {aluguelAtualizado:.2f}')"
      ],
      "execution_count": null,
      "outputs": [
        {
          "output_type": "stream",
          "text": [
            "Digite o valor atual do seu aluguel: 1000\n",
            "O valor do aluguel reajustado é R$ 1310.00\n"
          ],
          "name": "stdout"
        }
      ]
    },
    {
      "cell_type": "markdown",
      "metadata": {
        "id": "lKTwnuNMl8rP"
      },
      "source": [
        "### Parte 2\n",
        "Agora, altere sua calculadora para receber além do `valor do aluguel`, o percentual do reajuste no formato `XX%`.  \n",
        "\n",
        "**Dica:** Descubra uma forma de transformar o percentual recebido em um número para efetuar o cálculo.\n",
        "\n",
        "**Exemplo:**\n",
        "```\n",
        "Valor do aluguel = 1000\n",
        "Percentual do reajuste = 31%\n",
        "Valor do aluguel reajustado = R% 1310,00\n",
        "```"
      ]
    },
    {
      "cell_type": "code",
      "metadata": {
        "id": "aw2Zk_9KmA85",
        "colab": {
          "base_uri": "https://localhost:8080/"
        },
        "outputId": "73617a63-d268-4963-9a4c-dae528a66c3d"
      },
      "source": [
        "#Mini Projeto 2 - Parte 2\n",
        "aluguel = float(input(\"Digite o valor atual do seu aluguel: \"))\n",
        "igpm = float(input(\"Digite o percentual do reajuste: \").strip(\"%\")) / 100\n",
        "aluguelAtualizado = aluguel * (igpm+1)\n",
        "\n",
        "print(f'O valor do aluguel reajustado é R$ {aluguelAtualizado:.2f}')"
      ],
      "execution_count": null,
      "outputs": [
        {
          "output_type": "stream",
          "text": [
            "Digite o valor atual do seu aluguel: 1000\n",
            "Digite o percentual do reajuste: 31\n",
            "O valor do aluguel reajustado é R$ 1310.00\n"
          ],
          "name": "stdout"
        }
      ]
    }
  ]
}