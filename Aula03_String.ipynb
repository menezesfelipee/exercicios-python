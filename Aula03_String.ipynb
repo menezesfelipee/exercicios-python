{
  "nbformat": 4,
  "nbformat_minor": 0,
  "metadata": {
    "colab": {
      "name": "Exercicios_String.ipynb",
      "provenance": [],
      "collapsed_sections": [],
      "include_colab_link": true
    },
    "kernelspec": {
      "name": "python3",
      "display_name": "Python 3"
    },
    "language_info": {
      "name": "python"
    }
  },
  "cells": [
    {
      "cell_type": "markdown",
      "metadata": {
        "id": "view-in-github",
        "colab_type": "text"
      },
      "source": [
        "<a href=\"https://colab.research.google.com/github/menezesfelipee/exercicios-python/blob/main/Exercicios_String.ipynb\" target=\"_parent\"><img src=\"https://colab.research.google.com/assets/colab-badge.svg\" alt=\"Open In Colab\"/></a>"
      ]
    },
    {
      "cell_type": "markdown",
      "metadata": {
        "id": "wbV2YraddQOF"
      },
      "source": [
        "01 - Considere a string A = \"Os limites só existem se você os deixar existir.(goku)\".\n",
        "\n",
        "Que fatia corresponde a (goku)?"
      ]
    },
    {
      "cell_type": "code",
      "metadata": {
        "colab": {
          "base_uri": "https://localhost:8080/"
        },
        "id": "5YsSLxSWl5VO",
        "outputId": "26e21e53-9827-434c-8edb-0dc3691654db"
      },
      "source": [
        "texto = \"Os limites só existem se você os deixar existir.(goku)\"\n",
        "print(texto[-6:0])\n"
      ],
      "execution_count": null,
      "outputs": [
        {
          "output_type": "stream",
          "text": [
            "\n"
          ],
          "name": "stdout"
        }
      ]
    },
    {
      "cell_type": "markdown",
      "metadata": {
        "id": "2hA2Tw6sdR95"
      },
      "source": [
        "02 - Escreva um programa que solicite uma frase ao usuário e escreva a frase toda em maiúscula e sem espaços em branco."
      ]
    },
    {
      "cell_type": "code",
      "metadata": {
        "colab": {
          "base_uri": "https://localhost:8080/"
        },
        "id": "4lRA9OvpnNSf",
        "outputId": "451ff634-3476-4dee-a27f-e4fe21385613"
      },
      "source": [
        "frase = input(\"Escreva uma frase qualquer: \")\n",
        "\n",
        "print(frase.replace(\" \", \"\").upper())"
      ],
      "execution_count": null,
      "outputs": [
        {
          "output_type": "stream",
          "text": [
            "Escreva uma frase qualquer: eu me chamo felipe menezes\n",
            "EUMECHAMOFELIPEMENEZES\n"
          ],
          "name": "stdout"
        }
      ]
    },
    {
      "cell_type": "markdown",
      "metadata": {
        "id": "EntkYdeSdT_j"
      },
      "source": [
        "03 - Elabore um programa que recebe o seu nome, endereço e hobby e mostra cada uma das informações da seguinte forma:\n",
        "- Nome -> Letra maiúscula\n",
        "- Endereço -> Letra minúscula\n",
        "- Hobby -> Primeira letra maiúscula\n",
        "\n",
        "**Exemplo Entrada:**\n",
        "```\n",
        "Nome: bruno fabri\n",
        "Endereço: Rua ABC\n",
        "Hobby: jogar cs\n",
        "```\n",
        "\n",
        "**Exemplo Saída:**\n",
        "```\n",
        "Nome: BRUNO FABRI\n",
        "Endereço: rua abc\n",
        "Hobby: Jogar cs\n",
        "```"
      ]
    },
    {
      "cell_type": "code",
      "metadata": {
        "colab": {
          "base_uri": "https://localhost:8080/"
        },
        "id": "ParRA6l1nuWu",
        "outputId": "c121f5ad-6e46-456d-e8fa-e7de14192e42"
      },
      "source": [
        "nome = input(\"Escreva seu nome: \")\n",
        "endereco = input(\"Escreva seu endereço: \")\n",
        "hobby = input(\"Escreva seu hobby: \")\n",
        "\n",
        "print(f'''\n",
        "Nome: {nome.upper()}\n",
        "Endereço: {endereco.lower()}\n",
        "Hobby: {hobby.capitalize()}\n",
        "''')"
      ],
      "execution_count": null,
      "outputs": [
        {
          "output_type": "stream",
          "text": [
            "Escreva seu nome: felipe menezes\n",
            "Escreva seu endereço: RUA TAUFIK DIB\n",
            "Escreva seu hobby: assistir série\n",
            "\n",
            "Nome: FELIPE MENEZES\n",
            "Endereço: rua taufik dib\n",
            "Hobby: Assistir série\n",
            "\n"
          ],
          "name": "stdout"
        }
      ]
    }
  ]
}