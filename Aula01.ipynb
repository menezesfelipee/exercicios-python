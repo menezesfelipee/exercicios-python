{
  "nbformat": 4,
  "nbformat_minor": 0,
  "metadata": {
    "colab": {
      "name": "Aula1.ipynb",
      "provenance": [],
      "authorship_tag": "ABX9TyPmseaBXIS6apoMR3AskLv8",
      "include_colab_link": true
    },
    "kernelspec": {
      "name": "python3",
      "display_name": "Python 3"
    },
    "language_info": {
      "name": "python"
    }
  },
  "cells": [
    {
      "cell_type": "markdown",
      "metadata": {
        "id": "view-in-github",
        "colab_type": "text"
      },
      "source": [
        "<a href=\"https://colab.research.google.com/github/menezesfelipee/exercicios-python/blob/main/Aula1.ipynb\" target=\"_parent\"><img src=\"https://colab.research.google.com/assets/colab-badge.svg\" alt=\"Open In Colab\"/></a>"
      ]
    },
    {
      "cell_type": "code",
      "metadata": {
        "colab": {
          "base_uri": "https://localhost:8080/"
        },
        "id": "BTJaeTadFeXs",
        "outputId": "29ca381e-346f-45bc-b318-cba9395309ae"
      },
      "source": [
        "print(\"Olá Mundo\") # Parametros ficam dentro de parenteses"
      ],
      "execution_count": null,
      "outputs": [
        {
          "output_type": "stream",
          "text": [
            "Olá Mundo\n"
          ],
          "name": "stdout"
        }
      ]
    },
    {
      "cell_type": "code",
      "metadata": {
        "colab": {
          "base_uri": "https://localhost:8080/"
        },
        "id": "fhXU4VcqG5C8",
        "outputId": "697abb6e-f60b-4340-db1d-09eadec8d8ce"
      },
      "source": [
        "idade = 27 # = recebe\n",
        "\n",
        "print(idade)"
      ],
      "execution_count": null,
      "outputs": [
        {
          "output_type": "stream",
          "text": [
            "27\n"
          ],
          "name": "stdout"
        }
      ]
    },
    {
      "cell_type": "code",
      "metadata": {
        "colab": {
          "base_uri": "https://localhost:8080/"
        },
        "id": "JhB-jDiGJrgV",
        "outputId": "9592d7bf-ec37-4457-e87e-527a2cb02125"
      },
      "source": [
        "idade = '27'\n",
        "ano = 2021\n",
        "nasc = ano - int(idade)\n",
        "\n",
        "print(nasc)"
      ],
      "execution_count": null,
      "outputs": [
        {
          "output_type": "stream",
          "text": [
            "1994\n"
          ],
          "name": "stdout"
        }
      ]
    },
    {
      "cell_type": "code",
      "metadata": {
        "colab": {
          "base_uri": "https://localhost:8080/"
        },
        "id": "ZtdYJ7MPN3zI",
        "outputId": "0bae84fc-7db6-47f8-8023-dd3de85dabe1"
      },
      "source": [
        "nome = input(\"Escreva seu nome: \")\n",
        "endereco = input(\"Escreva seu endereço: \")\n",
        "cep = input(\"Escreva seu CEP: \")\n",
        "\n",
        "print(f'Nome: {nome}')\n",
        "print(f'Endereço: {endereco}')\n",
        "print(f'CEP: {cep}')"
      ],
      "execution_count": null,
      "outputs": [
        {
          "output_type": "stream",
          "text": [
            "Escreva seu nome: Felipe\n",
            "Escreva seu endereço: Rua Taufik Dib\n",
            "Escreva seu CEP: 23076380\n",
            "Nome: Felipe\n",
            "Endereço: Rua Taufik Dib\n",
            "CEP: 23076380\n"
          ],
          "name": "stdout"
        }
      ]
    },
    {
      "cell_type": "code",
      "metadata": {
        "colab": {
          "base_uri": "https://localhost:8080/"
        },
        "id": "p1CMiTFeOy2j",
        "outputId": "e299ce89-1ced-445d-c664-ac06c866eb72"
      },
      "source": [
        "nome = input(\"Escreva seu nome: \")\n",
        "print(f'Olá, {nome}. Seja bem vindo ao fantástico mundo da programação.')"
      ],
      "execution_count": null,
      "outputs": [
        {
          "output_type": "stream",
          "text": [
            "Escreva seu nome: Felipe\n",
            "Olá, Felipe. Seja bem vindo ao fantástico mundo da programação.\n"
          ],
          "name": "stdout"
        }
      ]
    },
    {
      "cell_type": "code",
      "metadata": {
        "colab": {
          "base_uri": "https://localhost:8080/"
        },
        "id": "SJP0Y4in1xti",
        "outputId": "1e87820c-c043-4d03-965b-02cd3498aa71"
      },
      "source": [
        "n1 = int(input(\"Primeiro valor: \"))\n",
        "n2 = int(input(\"Segundo valor: \"))\n",
        "result = n1+n2\n",
        "print(f'O resultado da soma é {result}')"
      ],
      "execution_count": null,
      "outputs": [
        {
          "output_type": "stream",
          "text": [
            "Primeiro valor: 16\n",
            "Segundo valor: 85\n",
            "O resultado da soma é 101\n"
          ],
          "name": "stdout"
        }
      ]
    },
    {
      "cell_type": "code",
      "metadata": {
        "colab": {
          "base_uri": "https://localhost:8080/"
        },
        "id": "W_jjZ7zT2QZT",
        "outputId": "890e5537-9adf-4830-ca52-d4541e7c5d79"
      },
      "source": [
        "n1 = float(input(\"Primeira nota: \"))\n",
        "n2 = float(input(\"Segunda nota: \"))\n",
        "n3 = float(input(\"Terceira nota: \"))\n",
        "n4 = float(input(\"Quarta nota: \"))\n",
        "med = (n1 + n2 + n3 + n4) / 4\n",
        "print(f'A média foi: {med}')"
      ],
      "execution_count": null,
      "outputs": [
        {
          "output_type": "stream",
          "text": [
            "Primeira nota: 6\n",
            "Segunda nota: 8.2\n",
            "Terceira nota: 9.3\n",
            "Quarta nota: 2.4\n",
            "A média foi: 6.475\n"
          ],
          "name": "stdout"
        }
      ]
    },
    {
      "cell_type": "code",
      "metadata": {
        "colab": {
          "base_uri": "https://localhost:8080/"
        },
        "id": "502Yw0rC3Icg",
        "outputId": "cfe7ac04-b60c-4022-f298-122076b7de2f"
      },
      "source": [
        "n1 = int(input(\"Digite um número inteiro: \"))\n",
        "n2 = int(input(\"Digite mais um número inteiro: \"))\n",
        "print(f'O resultado é {n1>=n2}')"
      ],
      "execution_count": null,
      "outputs": [
        {
          "output_type": "stream",
          "text": [
            "Digite um número inteiro: 45\n",
            "Digite mais um número inteiro: 46\n",
            "O resultado é False\n"
          ],
          "name": "stdout"
        }
      ]
    }
  ]
}