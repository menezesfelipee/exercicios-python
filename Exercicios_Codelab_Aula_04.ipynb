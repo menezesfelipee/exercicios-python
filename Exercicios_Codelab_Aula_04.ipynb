{
  "nbformat": 4,
  "nbformat_minor": 0,
  "metadata": {
    "colab": {
      "name": "Exercicios_Codelab_Aula_04.ipynb",
      "provenance": [],
      "include_colab_link": true
    },
    "kernelspec": {
      "name": "python3",
      "display_name": "Python 3"
    },
    "language_info": {
      "name": "python"
    }
  },
  "cells": [
    {
      "cell_type": "markdown",
      "metadata": {
        "id": "view-in-github",
        "colab_type": "text"
      },
      "source": [
        "<a href=\"https://colab.research.google.com/github/menezesfelipee/exercicios-python/blob/main/Exercicios_Codelab_Aula_04.ipynb\" target=\"_parent\"><img src=\"https://colab.research.google.com/assets/colab-badge.svg\" alt=\"Open In Colab\"/></a>"
      ]
    },
    {
      "cell_type": "markdown",
      "metadata": {
        "id": "SW-cnnj3AAlE"
      },
      "source": [
        "## Exercício 01\n",
        "\n",
        "Faça um programa que pergunte ao usuário um número e valide se o numero é par ou impar:\n",
        "\n",
        "* Crie uma variável para receber o valor, com conversão para int\n",
        "* Para um número ser par, a divisão dele por 2 tem que dar resto 0"
      ]
    },
    {
      "cell_type": "code",
      "metadata": {
        "id": "ZeuCDPZQFT9T",
        "colab": {
          "base_uri": "https://localhost:8080/"
        },
        "outputId": "7f19e179-a7d7-499b-ce4d-e58be336bf5d"
      },
      "source": [
        "num = int(input(\"Digite um número: \"))\n",
        "if num % 2 == 0:\n",
        "  print(f'O número {num} é par!')\n",
        "else:\n",
        "  print(f'O número {num} é ímpar!')"
      ],
      "execution_count": null,
      "outputs": [
        {
          "output_type": "stream",
          "text": [
            "Digite um número: 53\n",
            "O número 53 é ímpar!\n"
          ],
          "name": "stdout"
        }
      ]
    },
    {
      "cell_type": "markdown",
      "metadata": {
        "id": "jXVUBuN3DcU-"
      },
      "source": [
        "## Exercício 02\n",
        "\n",
        "> Parte 1\n",
        "\n",
        "Faça um script que peça um valor e mostre na tela se o valor é positivo ou negativo.\n",
        "\n",
        "> Parte 2\n",
        "\n",
        "Agora implemente a funcionalidade de não aceitar o número 0, no input. (esse vai além do explicado até agora)"
      ]
    },
    {
      "cell_type": "code",
      "metadata": {
        "id": "bsM4V6SeHwJr",
        "colab": {
          "base_uri": "https://localhost:8080/"
        },
        "outputId": "38bf6838-b8a9-474d-e18c-b2087595721a"
      },
      "source": [
        "num = float(input('Digite um número: '))\n",
        "if num > 0:\n",
        "  print(f'O número {num} é positivo.')\n",
        "if num < 0:\n",
        "  print(f'O número {num} é negativo.')"
      ],
      "execution_count": null,
      "outputs": [
        {
          "output_type": "stream",
          "text": [
            "Digite um número: -5\n",
            "O número -5.0 é negativo.\n"
          ],
          "name": "stdout"
        }
      ]
    },
    {
      "cell_type": "code",
      "metadata": {
        "colab": {
          "base_uri": "https://localhost:8080/"
        },
        "id": "ky_3Dn79HUKr",
        "outputId": "aba7ee64-3fd0-4421-f83c-bd154a321527"
      },
      "source": [
        "num = float(input('Digite um número: '))\n",
        "if num == 0:\n",
        "  print('Número neutro.')\n",
        "elif num < 0:\n",
        "  print(f'O número {num} é negativo.')\n",
        "else:\n",
        "  print(f'O número {num} é positivo.')"
      ],
      "execution_count": null,
      "outputs": [
        {
          "output_type": "stream",
          "text": [
            "Digite um número: 0\n",
            "Número neutro.\n"
          ],
          "name": "stdout"
        }
      ]
    },
    {
      "cell_type": "markdown",
      "metadata": {
        "id": "90mUizLXOKd3"
      },
      "source": [
        "## Exercício 03\n",
        "\n",
        "Faça um programa que peça dois números, imprima o maior deles ou imprima \"Numeros iguais\" se os números forem iguais."
      ]
    },
    {
      "cell_type": "code",
      "metadata": {
        "id": "7yXB2kfUVYuD",
        "colab": {
          "base_uri": "https://localhost:8080/"
        },
        "outputId": "cc9517b3-7e29-4ca8-e759-6edbd4347eae"
      },
      "source": [
        "num1 = float(input(\"Escreva o primeiro número: \"))\n",
        "num2 = float(input(\"Escreva o segundo número: \"))\n",
        "if num1 == num2:\n",
        "  print('Os números são iguais')\n",
        "elif num1 > num2:\n",
        "  print(f'O maior número é o {num1}')\n",
        "else:\n",
        "  print(f'O maior número é o {num2}')"
      ],
      "execution_count": null,
      "outputs": [
        {
          "output_type": "stream",
          "text": [
            "Escreva o primeiro número: 51\n",
            "Escreva o segundo número: 51\n",
            "Os números são iguais\n"
          ],
          "name": "stdout"
        }
      ]
    },
    {
      "cell_type": "markdown",
      "metadata": {
        "id": "9BATv7tsOWOI"
      },
      "source": [
        "## Exercício 04\n",
        "\n",
        "Crie um programa que verifique se uma letra digitada é \"F\" ou \"M\". Conforme a letra, escrever: F - Feminino, M - Masculino, caso escreva outra letra: Sexo Biológico Inválido."
      ]
    },
    {
      "cell_type": "code",
      "metadata": {
        "id": "pRm8kyI7Wnp4",
        "colab": {
          "base_uri": "https://localhost:8080/"
        },
        "outputId": "91345bb5-4d41-47a5-8e6f-d567e479bebe"
      },
      "source": [
        "sexo = input('Digite F para feminino ou M para masculino: ').strip().upper()[0]\n",
        "if sexo == 'F':\n",
        "  print('Feminino')\n",
        "elif sexo == 'M':\n",
        "  print('Masculino')\n",
        "else:\n",
        "  print(\"Sexo Biológico Inválido!\")"
      ],
      "execution_count": null,
      "outputs": [
        {
          "output_type": "stream",
          "text": [
            "Digite F para feminino ou M para masculino: mac\n",
            "Masculino\n"
          ],
          "name": "stdout"
        }
      ]
    },
    {
      "cell_type": "markdown",
      "metadata": {
        "id": "WX2j2ITtY3G5"
      },
      "source": [
        "### Exercício 05\n",
        "\n",
        "Crie um programa em Python que peça a nota do aluno, que deve ser um float entre 0.00 e 10.0\n",
        "\n",
        "* Se a nota for menor que 6.0, deve exibir a nota F.\n",
        "\n",
        "* Se a nota for de 6.0 até 7.0, deve exibir a nota D.\n",
        "\n",
        "* Se a nota for entre 7.0 e 8.0, deve exibir a nota C.\n",
        "\n",
        "* Se a nota for entre 8.0 e 9.0, deve exibir a nota B.\n",
        "\n",
        "* Por fim, se for entre 9.0 e 10.0, deve exibir um belo de um A."
      ]
    },
    {
      "cell_type": "code",
      "metadata": {
        "id": "4CjqLlFWY5Z-",
        "colab": {
          "base_uri": "https://localhost:8080/"
        },
        "outputId": "623e5121-14f5-47df-a97f-8dd4b65017d2"
      },
      "source": [
        "nota = float(input('Digite a nota do aluno: '))\n",
        "if nota < 6:\n",
        "  print('A nota é F.')\n",
        "elif 6 <= nota < 7:\n",
        "  print('A nota é D.')\n",
        "elif 7 <= nota < 8:\n",
        "  print('A nota é C.')\n",
        "elif 8 <= nota < 9:\n",
        "  print('A nota é B.')\n",
        "else:\n",
        "  print('Parabéns, você tirou A!')"
      ],
      "execution_count": null,
      "outputs": [
        {
          "output_type": "stream",
          "text": [
            "Digite a nota do aluno: 10\n",
            "Parabéns, você tirou A!\n"
          ],
          "name": "stdout"
        }
      ]
    },
    {
      "cell_type": "markdown",
      "metadata": {
        "id": "xep4W_T-s-Ra"
      },
      "source": [
        "# *Mini Projetos*"
      ]
    },
    {
      "cell_type": "markdown",
      "metadata": {
        "id": "4YbMlSEZG7UM"
      },
      "source": [
        "## **PROJETO 01**\n",
        "\n",
        "*   Escreva um programa que receba uma string digitada pelo usuário;\n",
        "*   Caso a string seja \"medieval\", exiba no console \"espada\";\n",
        "*   Caso contrário, se a string for \"futurista\", exiba no console \"sabre de luz\";\n",
        "*   Caso contrário, exiba no console \"Tente novamente\""
      ]
    },
    {
      "cell_type": "code",
      "metadata": {
        "id": "tn9QH5pVG8Rq",
        "colab": {
          "base_uri": "https://localhost:8080/"
        },
        "outputId": "be918d42-86e9-4efb-b777-8d9016016501"
      },
      "source": [
        "# Resposta:\n",
        "txt = input().strip().lower()\n",
        "if txt == 'medieval':\n",
        "  print('espada')\n",
        "elif txt == 'futurista':\n",
        "  print('sabre de luz')\n",
        "else:\n",
        "  print('Tente novamente!')"
      ],
      "execution_count": null,
      "outputs": [
        {
          "output_type": "stream",
          "text": [
            "Medieval\n",
            "espada\n"
          ],
          "name": "stdout"
        }
      ]
    },
    {
      "cell_type": "markdown",
      "metadata": {
        "id": "zUGk1OiNHDik"
      },
      "source": [
        "## **PROJETO 02**\n",
        "\n",
        "* Escreva um programa que receba um ataque de espada ou sabre digitada pelo usuário;\n",
        "\n",
        "* Caso o ataque seja \"espada\", exiba no console \"VOCÊ AINDA NÃO MATOU O CHEFÃO\";\n",
        "\n",
        "* Caso contrário, se o ataque for \"sabre\", exiba no console \"VOCÊ DERROTOU O CHEFÃO COM O SABRE DE LUZ\";\n",
        "\n",
        "* Caso contrário, exiba no console \"ATAQUE NOVAMENTE\""
      ]
    },
    {
      "cell_type": "code",
      "metadata": {
        "id": "eNZokIIOHHkp",
        "colab": {
          "base_uri": "https://localhost:8080/"
        },
        "outputId": "109bffba-78c3-4990-eb8d-024376989b30"
      },
      "source": [
        "# Resposta:\n",
        "ataque = input('Digite a arma de ataque: ').strip().lower()\n",
        "if ataque == 'espada':\n",
        "  print('VOCÊ AINDA NÃO MATOU O CHEFÃO')\n",
        "elif ataque == 'sabre':\n",
        "  print('VOCÊ DERROTOU O CHEFÃO COM O SABRE DE LUZ')\n",
        "else:\n",
        "  print('ATAQUE NOVAMENTE')"
      ],
      "execution_count": null,
      "outputs": [
        {
          "output_type": "stream",
          "text": [
            "Digite a arma de ataque: sabre\n",
            "VOCÊ DERROTOU O CHEFÃO COM O SABRE DE LUZ\n"
          ],
          "name": "stdout"
        }
      ]
    },
    {
      "cell_type": "markdown",
      "metadata": {
        "id": "NRhLAMa6ZfqU"
      },
      "source": [
        "## **DESAFIO 01**\n",
        "\n",
        "**Reajuste salarial**\n",
        "\n",
        "As empresas @.com resolveram dar um aumento de salário aos seus colaboradores e lhe contrataram para desenvolver o programa que calculará os reajustes.\n",
        "\n",
        "Faça um programa que recebe o salário de um colaborador e o reajuste segundo o seguinte critério, baseado no salário atual:\n",
        "* salários até R$ 280,00 (incluindo) : aumento de 20%\n",
        "\n",
        "* salários entre R\\$ 280,00 e R$ 700,00 : aumento de 15%\n",
        "\n",
        "* salários entre R\\$ 700,00 e R$ 1500,00 : aumento de 10%\n",
        "\n",
        "* salários de R$ 1500,00 em diante : aumento de 5% \n",
        "\n",
        "Após o aumento ser realizado, informe na tela:\n",
        "* o salário antes do reajuste;\n",
        "\n",
        "* o percentual de aumento aplicado;\n",
        "\n",
        "* o valor do aumento;\n",
        "\n",
        "* o novo salário, após o aumento.\""
      ]
    },
    {
      "cell_type": "code",
      "metadata": {
        "id": "VpC5oZINZXzt",
        "colab": {
          "base_uri": "https://localhost:8080/"
        },
        "outputId": "9bdab678-f043-419f-c28b-a2853734ed4d"
      },
      "source": [
        "salario = float(input('Digite o salário atual do colaborador: '))\n",
        "if salario <= 280:\n",
        "  reajuste = 0.20\n",
        "elif 280 < salario <= 700:\n",
        "  reajuste = 0.15\n",
        "elif 700 < salario <= 1500:\n",
        "  reajuste = 0.10\n",
        "else:\n",
        "  reajuste = 0.05\n",
        "print(f'''\n",
        "O salário antes do reajuste era R$ {salario:.2f}\n",
        "O percentual de reajuste foi de {reajuste*100:.0f}%\n",
        "O valor do aumento foi de R$ {salario*reajuste:.2f}\n",
        "O novo salário será de R$ {salario*(1+reajuste):.2f}\n",
        "''')"
      ],
      "execution_count": null,
      "outputs": [
        {
          "output_type": "stream",
          "text": [
            "Digite o salário atual do colaborador: 1500\n",
            "\n",
            "O salário antes do reajuste era R$ 1500.00\n",
            "O percentual de reajuste foi de 10%\n",
            "O valor do aumento foi de R$ 150.00\n",
            "O novo salário será de R$ 1650.00\n",
            "\n"
          ],
          "name": "stdout"
        }
      ]
    },
    {
      "cell_type": "markdown",
      "metadata": {
        "id": "HvThpbU4aBGy"
      },
      "source": [
        "## **DESAFIO 02**\n",
        "\n",
        "**Jogo da adivinhação**\n",
        "\n",
        "Escreva um programa que faça o computador “pensar” em um número inteiro entre 0 e 10 e peça para o usuário tentar descobrir qual foi o número escolhido pelo computador. O programa deverá escrever na tela se o usuário venceu ou perdeu."
      ]
    },
    {
      "cell_type": "code",
      "metadata": {
        "id": "TVeHZbyQZIzO",
        "colab": {
          "base_uri": "https://localhost:8080/"
        },
        "outputId": "0016b21b-63e6-437b-9493-5877bbd36202"
      },
      "source": [
        "import random\n",
        "numComp = random.randint(0,11)\n",
        "numUser = int(input('Tente adivinhar um número de 0 a 10 que o computador pensou: '))\n",
        "if numComp == numUser:\n",
        "  print('Parabéns, você adivinhou o número.')\n",
        "else:\n",
        "  print(f'Você errou! Tente novamente mais tarde.\\nO número que o computador pensou foi o {numComp}.')"
      ],
      "execution_count": null,
      "outputs": [
        {
          "output_type": "stream",
          "text": [
            "Tente adivinhar um número de 0 a 10 que o computador pensou: 9\n",
            "Parabéns, você adivinhou o número.\n"
          ],
          "name": "stdout"
        }
      ]
    },
    {
      "cell_type": "markdown",
      "metadata": {
        "id": "mjLFAUooaOH1"
      },
      "source": [
        "## **Desafio 03**\n",
        "\n",
        "**Caixa eletrônico**\n",
        "\n",
        "Faça um Programa para um caixa eletrônico. O programa deverá perguntar ao usuário a valor do saque e depois informar quantas notas de cada valor serão fornecidas. As notas disponíveis serão as de 1, 5, 10, 50 e 100 reais. O valor mínimo é de 10 reais e o máximo de 600 reais. O programa não deve se preocupar com a quantidade de notas existentes na máquina.\n",
        "\n",
        "* Exemplo 1: Para sacar a quantia de 256 reais, o programa fornece duas notas de 100, uma nota de 50, uma nota de 5 e uma nota de 1;\n",
        "\n",
        "* Exemplo 2: Para sacar a quantia de 399 reais, o programa fornece três notas de 100, uma nota de 50, quatro notas de 10, uma nota de 5 e quatro notas de 1.\n",
        "\n"
      ]
    },
    {
      "cell_type": "code",
      "metadata": {
        "id": "sH65bTx-ZMLh",
        "colab": {
          "base_uri": "https://localhost:8080/"
        },
        "outputId": "80e3d4b6-52fd-4fd5-8f98-3359c93cfa01"
      },
      "source": [
        "# Método 1\n",
        "saque = int(input('Qual é o valor do saque?\\nMínimo = R$10,00    Máximo = R$ 600,00\\n'))\n",
        "notas100 = saque // 100\n",
        "notas50 = (saque - 100*notas100) // 50\n",
        "notas10 = (saque - 100*notas100 - 50*notas50) // 10\n",
        "notas5 = (saque - 100*notas100 - 50*notas50 - 10*notas10) // 5\n",
        "notas1 = saque - 100*notas100 - 50*notas50 - 10*notas10 - 5*notas5\n",
        "if saque < 10 or saque > 600:\n",
        "  print('Valor não autorizado.')\n",
        "else:\n",
        "  print(f'''\n",
        "Você receberá:\n",
        "{notas100} notas de R$ 100,00\n",
        "{notas50} notas de R$ 50,00\n",
        "{notas10} notas de R$ 10,00\n",
        "{notas5} notas de R$ 5,00\n",
        "{notas1} notas de R$ 1,00\n",
        "''')"
      ],
      "execution_count": null,
      "outputs": [
        {
          "output_type": "stream",
          "text": [
            "Qual é o valor do saque?\n",
            "Mínimo = R$10,00    Máximo = R$ 600,00\n",
            "222\n",
            "\n",
            "Você receberá:\n",
            "2 notas de R$ 100,00\n",
            "0 notas de R$ 50,00\n",
            "2 notas de R$ 10,00\n",
            "0 notas de R$ 5,00\n",
            "2 notas de R$ 1,00\n",
            "\n"
          ],
          "name": "stdout"
        }
      ]
    },
    {
      "cell_type": "code",
      "metadata": {
        "colab": {
          "base_uri": "https://localhost:8080/"
        },
        "id": "Tfvob77sLsgU",
        "outputId": "34629057-07e5-4791-ed31-9be21a10bb59"
      },
      "source": [
        "# Método 2\n",
        "saque = int(input('Qual é o valor do saque?\\nMínimo = R$10,00    Máximo = R$ 600,00\\n'))\n",
        "notas100 = saque // 100\n",
        "notas50 = (saque % 100) // 50\n",
        "notas10 = (saque % 100 % 50) // 10\n",
        "notas5 = (saque % 100 % 50 % 10) // 5\n",
        "notas1 = saque % 100 % 50 % 10 % 5\n",
        "if saque < 10 or saque > 600:\n",
        "  print('Valor não autorizado.')\n",
        "else:\n",
        "  print(f'''\n",
        "Você receberá:\n",
        "{notas100} notas de R$ 100,00\n",
        "{notas50} notas de R$ 50,00\n",
        "{notas10} notas de R$ 10,00\n",
        "{notas5} notas de R$ 5,00\n",
        "{notas1} notas de R$ 1,00\n",
        "''')"
      ],
      "execution_count": null,
      "outputs": [
        {
          "output_type": "stream",
          "text": [
            "Qual é o valor do saque?\n",
            "Mínimo = R$10,00    Máximo = R$ 600,00\n",
            "222\n",
            "\n",
            "Você receberá:\n",
            "2 notas de R$ 100,00\n",
            "0 notas de R$ 50,00\n",
            "2 notas de R$ 10,00\n",
            "0 notas de R$ 5,00\n",
            "2 notas de R$ 1,00\n",
            "\n"
          ],
          "name": "stdout"
        }
      ]
    }
  ]
}